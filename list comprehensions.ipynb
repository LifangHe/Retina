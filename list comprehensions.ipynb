{
 "cells": [
  {
   "cell_type": "code",
   "execution_count": 2,
   "metadata": {
    "collapsed": true
   },
   "outputs": [],
   "source": [
    "from sys import getsizeof\n",
    "from scipy.misc import imresize\n",
    "import numpy as np\n",
    "import h5py\n",
    "import pickle"
   ]
  },
  {
   "cell_type": "code",
   "execution_count": 3,
   "metadata": {
    "collapsed": false
   },
   "outputs": [],
   "source": [
    "unknown_list = pickle.load( open( \"unknown_list.p\", \"rb\" ) )"
   ]
  },
  {
   "cell_type": "code",
   "execution_count": 75,
   "metadata": {
    "collapsed": false
   },
   "outputs": [
    {
     "name": "stdout",
     "output_type": "stream",
     "text": [
      "[u'numsets', u'jpgnames0', u'jpgnames1', u'jpgnames2', u'jpgnames3', u'jpgnames4', u'jpgnames5', u'jpgnames6', u'jpgnames7', u'jpgnames8', u'jpgnames9', u'jpgnames10', u'jpgnames11', u'jpgnames12', u'jpgnames13', u'jpgnames14', u'jpgnames15', u'jpgnames16', u'jpgnames17', u'jpgnames18', u'jpgnames19', u'jpgnames20', u'jpgnames21', u'jpgnames22', u'jpgnames23', u'jpgnames24', u'jpgnames25', u'jpgnames26', u'jpgnames27', u'jpgnames28', u'jpgnames29', u'jpgnames30', u'jpgnames31', u'jpgnames32', u'jpgnames42', u'jpgnames43', u'jpgnames41', u'jpgnames44', u'jpgnames46', u'jpgnames47', u'jpgnames45', u'jpgnames48', u'jpgnames34', u'jpgnames35', u'jpgnames33', u'jpgnames36', u'jpgnames38', u'jpgnames39', u'jpgnames37', u'jpgnames40', u'jpgnames62', u'jpgnames63', u'jpgnames61', u'jpgnames64', u'jpgnames50', u'jpgnames51', u'jpgnames49', u'jpgnames52', u'jpgnames58', u'jpgnames59', u'jpgnames57', u'jpgnames60', u'jpgnames54', u'jpgnames55', u'jpgnames53', u'jpgnames56', u'jpgnames66', u'jpgnames67', u'jpgnames65', u'jpgnames68', u'jpgnames78', u'jpgnames79', u'jpgnames77', u'jpgnames80', u'jpgnames74', u'jpgnames75', u'jpgnames73', u'jpgnames76', u'jpgnames70', u'jpgnames71', u'jpgnames69', u'jpgnames72', u'jpgnames82', u'jpgnames81']\n",
      "[u'images0', u'images1', u'images10', u'images11', u'images12', u'images13', u'images14', u'images15', u'images16', u'images17', u'images18', u'images19', u'images2', u'images20', u'images21', u'images22', u'images23', u'images24', u'images25', u'images26', u'images27', u'images28', u'images29', u'images3', u'images30', u'images31', u'images32', u'images33', u'images34', u'images35', u'images36', u'images37', u'images38', u'images39', u'images4', u'images40', u'images41', u'images42', u'images43', u'images44', u'images45', u'images46', u'images47', u'images48', u'images49', u'images5', u'images50', u'images51', u'images52', u'images53', u'images54', u'images55', u'images56', u'images57', u'images58', u'images59', u'images6', u'images60', u'images61', u'images62', u'images63', u'images64', u'images65', u'images66', u'images67', u'images68', u'images69', u'images7', u'images70', u'images71', u'images72', u'images73', u'images74', u'images75', u'images76', u'images77', u'images78', u'images79', u'images8', u'images80', u'images81', u'images82', u'images9']\n"
     ]
    }
   ],
   "source": [
    "with h5py.File('big2set.h5', 'a') as vb:\n",
    "    numsets = vb.attrs.__getitem__('numsets')\n",
    "    namekey = vb.attrs.keys()\n",
    "    print namekey\n",
    "    arrkeys = vb.keys()\n",
    "    print arrkeys"
   ]
  },
  {
   "cell_type": "code",
   "execution_count": 7,
   "metadata": {
    "collapsed": false
   },
   "outputs": [],
   "source": [
    "for i in range(numsets):\n",
    "    with h5py.File('big2set.h5', 'a') as vb:\n",
    "        for i in range(numsets):\n",
    "            "
   ]
  },
  {
   "cell_type": "code",
   "execution_count": 10,
   "metadata": {
    "collapsed": false
   },
   "outputs": [],
   "source": [
    "a = np.arange(7*8).reshape((8,7))"
   ]
  },
  {
   "cell_type": "code",
   "execution_count": 11,
   "metadata": {
    "collapsed": false
   },
   "outputs": [
    {
     "data": {
      "text/plain": [
       "array([[ 0,  1,  2,  3,  4,  5,  6],\n",
       "       [ 7,  8,  9, 10, 11, 12, 13],\n",
       "       [14, 15, 16, 17, 18, 19, 20],\n",
       "       [21, 22, 23, 24, 25, 26, 27],\n",
       "       [28, 29, 30, 31, 32, 33, 34],\n",
       "       [35, 36, 37, 38, 39, 40, 41],\n",
       "       [42, 43, 44, 45, 46, 47, 48],\n",
       "       [49, 50, 51, 52, 53, 54, 55]])"
      ]
     },
     "execution_count": 11,
     "metadata": {},
     "output_type": "execute_result"
    }
   ],
   "source": [
    "a"
   ]
  },
  {
   "cell_type": "code",
   "execution_count": 12,
   "metadata": {
    "collapsed": true
   },
   "outputs": [],
   "source": [
    "b = np.delete(a,[1,3],0)"
   ]
  },
  {
   "cell_type": "code",
   "execution_count": 13,
   "metadata": {
    "collapsed": false
   },
   "outputs": [
    {
     "data": {
      "text/plain": [
       "array([[ 0,  1,  2,  3,  4,  5,  6],\n",
       "       [14, 15, 16, 17, 18, 19, 20],\n",
       "       [28, 29, 30, 31, 32, 33, 34],\n",
       "       [35, 36, 37, 38, 39, 40, 41],\n",
       "       [42, 43, 44, 45, 46, 47, 48],\n",
       "       [49, 50, 51, 52, 53, 54, 55]])"
      ]
     },
     "execution_count": 13,
     "metadata": {},
     "output_type": "execute_result"
    }
   ],
   "source": [
    "b"
   ]
  },
  {
   "cell_type": "code",
   "execution_count": 77,
   "metadata": {
    "collapsed": false
   },
   "outputs": [
    {
     "ename": "TypeError",
     "evalue": "an integer is required",
     "output_type": "error",
     "traceback": [
      "\u001b[0;31m---------------------------------------------------------------------------\u001b[0m",
      "\u001b[0;31mTypeError\u001b[0m                                 Traceback (most recent call last)",
      "\u001b[0;32m<ipython-input-77-347fb7d75d7c>\u001b[0m in \u001b[0;36m<module>\u001b[0;34m()\u001b[0m\n\u001b[1;32m      2\u001b[0m \u001b[0mD\u001b[0m \u001b[0;34m=\u001b[0m \u001b[0;34m[\u001b[0m\u001b[0;34m'two'\u001b[0m\u001b[0;34m,\u001b[0m \u001b[0;34m'nine'\u001b[0m\u001b[0;34m,\u001b[0m \u001b[0;34m'five'\u001b[0m\u001b[0;34m]\u001b[0m\u001b[0;34m\u001b[0m\u001b[0m\n\u001b[1;32m      3\u001b[0m \u001b[0;34m\u001b[0m\u001b[0m\n\u001b[0;32m----> 4\u001b[0;31m \u001b[0mE\u001b[0m \u001b[0;34m=\u001b[0m \u001b[0mL\u001b[0m\u001b[0;34m.\u001b[0m\u001b[0mpop\u001b[0m\u001b[0;34m(\u001b[0m\u001b[0;34m[\u001b[0m\u001b[0;36m1\u001b[0m\u001b[0;34m,\u001b[0m\u001b[0;36m2\u001b[0m\u001b[0;34m]\u001b[0m\u001b[0;34m)\u001b[0m\u001b[0;34m\u001b[0m\u001b[0m\n\u001b[0m\u001b[1;32m      5\u001b[0m \u001b[0;32mprint\u001b[0m \u001b[0mE\u001b[0m\u001b[0;34m\u001b[0m\u001b[0m\n",
      "\u001b[0;31mTypeError\u001b[0m: an integer is required"
     ]
    }
   ],
   "source": [
    "L = ['one', 'two', 'three', 'four', 'five', 'six']\n",
    "D = ['two', 'nine', 'five']\n",
    "\n",
    "E = L.pop([1,2])\n",
    "print E"
   ]
  },
  {
   "cell_type": "code",
   "execution_count": 63,
   "metadata": {
    "collapsed": false
   },
   "outputs": [],
   "source": [
    "ulist = [ filter(str.isdigit, name) for name in unknown_list ]"
   ]
  },
  {
   "cell_type": "code",
   "execution_count": 80,
   "metadata": {
    "collapsed": false
   },
   "outputs": [
    {
     "name": "stdout",
     "output_type": "stream",
     "text": [
      "on 0\n",
      "on 1\n",
      "on 2\n",
      "on 3\n",
      "on 4\n",
      "on 5\n",
      "on 6\n",
      "on 7\n",
      "on 8\n",
      "on 9\n",
      "on 10\n",
      "on 11\n",
      "on 12\n",
      "on 13\n",
      "on 14\n",
      "on 15\n",
      "on 16\n",
      "on 17\n",
      "on 18\n",
      "on 19\n",
      "on 20\n",
      "on 21\n",
      "on 22\n",
      "on 23\n",
      "on 24\n",
      "on 25\n",
      "on 26\n",
      "on 27\n",
      "on 28\n",
      "on 29\n",
      "on 30\n",
      "on 31\n",
      "on 32\n",
      "on 33\n",
      "on 34\n",
      "on 35\n",
      "on 36\n",
      "on 37\n",
      "on 38\n",
      "on 39\n",
      "on 40\n",
      "on 41\n",
      "on 42\n",
      "on 43\n",
      "on 44\n",
      "on 45\n",
      "on 46\n",
      "on 47\n",
      "on 48\n",
      "on 49\n",
      "on 50\n",
      "on 51\n",
      "on 52\n",
      "on 53\n",
      "on 54\n",
      "on 55\n",
      "on 56\n",
      "on 57\n",
      "on 58\n",
      "on 59\n",
      "on 60\n",
      "on 61\n",
      "on 62\n",
      "on 63\n",
      "on 64\n",
      "on 65\n",
      "on 66\n",
      "on 67\n",
      "on 68\n",
      "on 69\n",
      "on 70\n",
      "on 71\n",
      "on 72\n",
      "on 73\n",
      "on 74\n",
      "on 75\n",
      "on 76\n",
      "on 77\n",
      "on 78\n",
      "on 79\n",
      "on 80\n",
      "on 81\n",
      "on 82\n"
     ]
    }
   ],
   "source": [
    "#for i in range(numsets):\n",
    "for i in range(numsets):\n",
    "    print 'on', i\n",
    "    with h5py.File('big2set.h5', 'a') as b2:\n",
    "        names = b2.attrs.__getitem__('jpgnames'+str(i))\n",
    "        names = names[3:-2]\n",
    "        names = names.split(\"', u'\")\n",
    "        names = [ filter(str.isdigit, num) for num in names ]\n",
    "        delindex = [names.index(num) for num in names if num in ulist]\n",
    "        remaining = [num for num in names if num not in ulist]\n",
    "        rem_num = np.array(remaining)\n",
    "        arr = np.array(b2.get('images'+str(i)))\n",
    "        arr = np.delete(arr,delindex,0)\n",
    "        with h5py.File('num_arr.h5', 'a') as na:\n",
    "            na.create_dataset(\"arr\"+str(i),data=arr,compression=\"gzip\",compression_opts=9)\n",
    "            na.create_dataset(\"imgnum\"+str(i),data=rem_num,compression=\"gzip\",compression_opts=9)"
   ]
  },
  {
   "cell_type": "code",
   "execution_count": 73,
   "metadata": {
    "collapsed": false
   },
   "outputs": [
    {
     "name": "stdout",
     "output_type": "stream",
     "text": [
      "<type 'str'>\n",
      "<type 'str'>\n"
     ]
    }
   ],
   "source": [
    "print type((names[0]))\n",
    "print type((ulist[0]))"
   ]
  },
  {
   "cell_type": "code",
   "execution_count": null,
   "metadata": {
    "collapsed": true
   },
   "outputs": [],
   "source": [
    "Z = [names1.index(num) for num in names1 if num in unknown_list]"
   ]
  }
 ],
 "metadata": {
  "kernelspec": {
   "display_name": "Python 2",
   "language": "python",
   "name": "python2"
  },
  "language_info": {
   "codemirror_mode": {
    "name": "ipython",
    "version": 2
   },
   "file_extension": ".py",
   "mimetype": "text/x-python",
   "name": "python",
   "nbconvert_exporter": "python",
   "pygments_lexer": "ipython2",
   "version": "2.7.11"
  }
 },
 "nbformat": 4,
 "nbformat_minor": 0
}
