{
 "cells": [
  {
   "cell_type": "code",
   "execution_count": 20,
   "metadata": {
    "collapsed": false
   },
   "outputs": [
    {
     "name": "stdout",
     "output_type": "stream",
     "text": [
      "<class 'list'>\n",
      "cpt.csv\n",
      "<class '_csv.reader'> 913806\n",
      "0\n",
      "913806\n",
      "demogr.csv\n",
      "<class '_csv.reader'> 8718\n",
      "913806\n",
      "922524\n",
      "icd9.csv\n",
      "<class '_csv.reader'> 1465631\n",
      "922524\n",
      "2388155\n",
      "meds.csv\n",
      "<class '_csv.reader'> 805625\n",
      "2388155\n",
      "3193780\n",
      "note.csv\n",
      "<class '_csv.reader'> 138605\n",
      "3193780\n",
      "3332385\n",
      "smartform.csv\n",
      "<class '_csv.reader'> 991388\n",
      "3332385\n",
      "4323773\n",
      "4323773\n"
     ]
    }
   ],
   "source": [
    "import pandas\n",
    "import os\n",
    "import glob\n",
    "import csv\n",
    "\n",
    "filelist = glob.glob('*.csv')\n",
    "\n",
    "print(type(filelist))\n",
    "\n",
    "totalrows = 0\n",
    "\n",
    "for filename in filelist:\n",
    "    \n",
    "    print(filename)\n",
    "    \n",
    "    f = open(filename, \"rt\",encoding = 'iso-8859-1') \n",
    "\n",
    "    reader = csv.reader(f)\n",
    "\n",
    "    rows  = len(list(reader))\n",
    "    \n",
    "    print(type(reader), rows)\n",
    "        \n",
    "    print(totalrows)\n",
    "    totalrows = totalrows + rows\n",
    "    print(totalrows)\n",
    "        \n",
    "print(totalrows)\n",
    " "
   ]
  },
  {
   "cell_type": "code",
   "execution_count": 17,
   "metadata": {
    "collapsed": false
   },
   "outputs": [
    {
     "name": "stdout",
     "output_type": "stream",
     "text": [
      "<class 'list'>\n",
      "concat/concat.csv\n",
      "<class '_csv.reader'> 4323774\n",
      "0\n",
      "0\n"
     ]
    }
   ],
   "source": [
    "filelist = glob.glob('concat/*.csv')\n",
    "\n",
    "print(type(filelist))\n",
    "\n",
    "totalrows = 0\n",
    "\n",
    "for filename in filelist:\n",
    "    \n",
    "    print(filename)\n",
    "    \n",
    "    f = open(filename, \"rt\",encoding = 'iso-8859-1') \n",
    "\n",
    "    reader = csv.reader(f)\n",
    "\n",
    "    print(type(reader), len(list(reader)))\n",
    "        \n",
    "    rows  = len(list(reader))\n",
    "        \n",
    "    totalrows += rows\n",
    "    print(totalrows)\n",
    "        \n",
    "print(totalrows)"
   ]
  },
  {
   "cell_type": "code",
   "execution_count": 13,
   "metadata": {
    "collapsed": false
   },
   "outputs": [
    {
     "name": "stdout",
     "output_type": "stream",
     "text": [
      "cpt.csv\n"
     ]
    },
    {
     "name": "stderr",
     "output_type": "stream",
     "text": [
      "//anaconda/lib/python3.5/site-packages/IPython/core/interactiveshell.py:2723: DtypeWarning: Columns (0) have mixed types. Specify dtype option on import or set low_memory=False.\n",
      "  interactivity=interactivity, compiler=compiler, result=result)\n"
     ]
    },
    {
     "name": "stdout",
     "output_type": "stream",
     "text": [
      "demogr.csv\n",
      "icd9.csv\n",
      "meds.csv\n"
     ]
    },
    {
     "name": "stderr",
     "output_type": "stream",
     "text": [
      "//anaconda/lib/python3.5/site-packages/IPython/core/interactiveshell.py:2723: DtypeWarning: Columns (0,1,2,11) have mixed types. Specify dtype option on import or set low_memory=False.\n",
      "  interactivity=interactivity, compiler=compiler, result=result)\n"
     ]
    },
    {
     "name": "stdout",
     "output_type": "stream",
     "text": [
      "note.csv\n"
     ]
    },
    {
     "name": "stderr",
     "output_type": "stream",
     "text": [
      "//anaconda/lib/python3.5/site-packages/IPython/core/interactiveshell.py:2723: DtypeWarning: Columns (0,1,4,5,7,10) have mixed types. Specify dtype option on import or set low_memory=False.\n",
      "  interactivity=interactivity, compiler=compiler, result=result)\n"
     ]
    },
    {
     "name": "stdout",
     "output_type": "stream",
     "text": [
      "smartform.csv\n"
     ]
    },
    {
     "name": "stderr",
     "output_type": "stream",
     "text": [
      "//anaconda/lib/python3.5/site-packages/IPython/core/interactiveshell.py:2723: DtypeWarning: Columns (0,1) have mixed types. Specify dtype option on import or set low_memory=False.\n",
      "  interactivity=interactivity, compiler=compiler, result=result)\n"
     ]
    }
   ],
   "source": [
    "dflist = []\n",
    "for filename in filelist:\n",
    "    print(filename)\n",
    "    df=pandas.read_csv(filename,header=None, encoding = 'iso-8859-1')\n",
    "    dflist.append(df)\n",
    "concatdf = pandas.concat(dflist,axis=0)\n",
    "concatdf.to_csv('concat.csv', index=None)\n",
    "\n",
    "    "
   ]
  },
  {
   "cell_type": "code",
   "execution_count": 22,
   "metadata": {
    "collapsed": false
   },
   "outputs": [
    {
     "name": "stdout",
     "output_type": "stream",
     "text": [
      "['991387', '30404503', '131180110451', '01-APR-16', 'VA - Left Distance CC', '20/20', '', '', '', '', '', '', '', '', '', '', '', '', '', '']\n"
     ]
    }
   ],
   "source": [
    "f = open('concat/concat.csv', \"rt\",encoding = 'iso-8859-1') \n",
    "\n",
    "reader = csv.reader(f)\n",
    "\n",
    "filelist = list(reader)\n",
    "\n",
    "print(filelist[-1])"
   ]
  },
  {
   "cell_type": "code",
   "execution_count": null,
   "metadata": {
    "collapsed": true
   },
   "outputs": [],
   "source": []
  }
 ],
 "metadata": {
  "kernelspec": {
   "display_name": "Python 3",
   "language": "python",
   "name": "python3"
  },
  "language_info": {
   "codemirror_mode": {
    "name": "ipython",
    "version": 3
   },
   "file_extension": ".py",
   "mimetype": "text/x-python",
   "name": "python",
   "nbconvert_exporter": "python",
   "pygments_lexer": "ipython3",
   "version": "3.5.1"
  }
 },
 "nbformat": 4,
 "nbformat_minor": 0
}
